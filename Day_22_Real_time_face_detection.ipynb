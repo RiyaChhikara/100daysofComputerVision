{
 "cells": [
  {
   "cell_type": "markdown",
   "metadata": {},
   "source": [
    "# Real Time Face Detection with OpenCV\n",
    "\n",
    "Code Source: [Datacamp article](https://www.datacamp.com/tutorial/face-detection-python-opencv)"
   ]
  },
  {
   "cell_type": "code",
   "execution_count": null,
   "metadata": {},
   "outputs": [],
   "source": [
    "# Install the library \n",
    "%pip install opencv-python"
   ]
  },
  {
   "cell_type": "code",
   "execution_count": null,
   "metadata": {},
   "outputs": [],
   "source": [
    "# Importing the OpenCV library \n",
    "import cv2\n",
    "\n",
    "# Load the Haar Cascade model \n",
    "face_classifier = cv2.CascadeClassifier(\n",
    "    cv2.data.haarcascades + \"haarcascade_frontalface_default.xml\")"
   ]
  },
  {
   "cell_type": "code",
   "execution_count": null,
   "metadata": {},
   "outputs": [],
   "source": [
    "# Giving access to the webcam \n",
    "video_capture = cv2.VideoCapture(0) # 0 parameter here means \"use the default camera\""
   ]
  },
  {
   "cell_type": "code",
   "execution_count": null,
   "metadata": {},
   "outputs": [],
   "source": [
    "# Function to detect faces in the video stream and draw a bounding box around them \n",
    "def detect_bounding_box(vid): \n",
    "  gray_image = cv2.cvtColor(vid, cv2.COLOR_BGR2GRAY)\n",
    "  faces = face_classifier.detectMultiScale(gray_image, 1.1, 5, minSize=(20,20))\n",
    "  for (x, y, w, h) in faces: # x axis, y axis, width, height\n",
    "    cv2.rectangle(vid, (x, y), (x + w, y + h), (0, 255, 0), 4)\n",
    "  return faces"
   ]
  },
  {
   "cell_type": "code",
   "execution_count": null,
   "metadata": {},
   "outputs": [],
   "source": [
    "# A loop for Real-time Face Detection \n",
    "while True: \n",
    "  result, video_frame = video_capture.read()\n",
    "  if result is False: \n",
    "    break # Terminate the loop if the frame is not read successfully \n",
    "  \n",
    "  faces = detect_bounding_box(\n",
    "      video_frame\n",
    "  ) # apply the function we created to the video frame \n",
    "\n",
    "  cv2.imshow(\n",
    "      \"Face Detection Project\", video_frame \n",
    "  ) # display the processed frame in a window named \"My Face Detection Project\n",
    "\n",
    "  if cv2.waitKey(1) & 0xFF == ord(\"q\"):\n",
    "    break \n",
    "\n",
    "video_capture.release()\n",
    "cv2.destroyAllWindows()"
   ]
  }
 ],
 "metadata": {
  "kernelspec": {
   "display_name": "Python 3",
   "language": "python",
   "name": "python3"
  },
  "language_info": {
   "codemirror_mode": {
    "name": "ipython",
    "version": 3
   },
   "file_extension": ".py",
   "mimetype": "text/x-python",
   "name": "python",
   "nbconvert_exporter": "python",
   "pygments_lexer": "ipython3",
   "version": "3.9.13"
  }
 },
 "nbformat": 4,
 "nbformat_minor": 2
}

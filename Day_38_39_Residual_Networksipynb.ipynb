{
  "nbformat": 4,
  "nbformat_minor": 0,
  "metadata": {
    "colab": {
      "provenance": []
    },
    "kernelspec": {
      "name": "python3",
      "display_name": "Python 3"
    },
    "language_info": {
      "name": "python"
    }
  },
  "cells": [
    {
      "cell_type": "markdown",
      "source": [
        "# Residual Networks\n",
        "\n",
        "Source: [Dive into Deep Learning](https://d2l.ai/chapter_convolutional-modern/resnet.html)"
      ],
      "metadata": {
        "id": "yKam2tAQDxV8"
      }
    },
    {
      "cell_type": "code",
      "source": [
        "# pip install d2l"
      ],
      "metadata": {
        "id": "dgpn_pnHDtcJ"
      },
      "execution_count": null,
      "outputs": []
    },
    {
      "cell_type": "code",
      "execution_count": 30,
      "metadata": {
        "id": "9mN70lgSwKEG"
      },
      "outputs": [],
      "source": [
        "# Importing libraries\n",
        "import tensorflow as tf\n",
        "from d2l import tensorflow as d2l"
      ]
    },
    {
      "cell_type": "code",
      "source": [
        "class Residual(tf.keras.Model):\n",
        "    \"\"\"The Residual block of ResNet models.\"\"\"\n",
        "    def __init__(self, num_channels, use_1x1conv=False, strides=1):\n",
        "        super().__init__()\n",
        "        self.conv1 = tf.keras.layers.Conv2D(num_channels, padding='same',\n",
        "                                            kernel_size=3, strides=strides)\n",
        "        self.conv2 = tf.keras.layers.Conv2D(num_channels, kernel_size=3,\n",
        "                                            padding='same')\n",
        "        self.conv3 = None\n",
        "        if use_1x1conv:\n",
        "            self.conv3 = tf.keras.layers.Conv2D(num_channels, kernel_size=1,\n",
        "                                                strides=strides)\n",
        "        self.bn1 = tf.keras.layers.BatchNormalization()\n",
        "        self.bn2 = tf.keras.layers.BatchNormalization()\n",
        "\n",
        "    def call(self, X):\n",
        "        Y = tf.keras.activations.relu(self.bn1(self.conv1(X)))\n",
        "        Y = self.bn2(self.conv2(Y))\n",
        "        if self.conv3 is not None:\n",
        "            X = self.conv3(X)\n",
        "        Y += X\n",
        "        return tf.keras.activations.relu(Y)"
      ],
      "metadata": {
        "id": "NYDUib0C99zT"
      },
      "execution_count": 31,
      "outputs": []
    },
    {
      "cell_type": "markdown",
      "source": [
        "In this Residual block, there are two 3 x 3 convolutional layers with the same number of output channels. Each convolutional layer is followed by a batch normalization layer and ReLU activation function. Then, we skip these two convolution operations and add the input directly before the final ReLU activation function.\n",
        "\n",
        "We use the 1x1 convolution to match the dimensions when the input and output feature maps have different shapes.\n",
        "\n",
        "The `call` mwthod defines the forward pass of the residual block. It applies the first convolutional layer `conv1` followed by batch normalization `bn1` and ReLU activation. Then, it applies the second convolutional layer `conv2` followed by batch normalization `bn2`. If `use_1x1conv` is True, it applies a 1x1 convolution (conv3) to the input tensor to match the dimensions. Finally, it adds the original input tensor X to the output of the second convolutional layer, and applies ReLU activation."
      ],
      "metadata": {
        "id": "hckD9vuOJ1C8"
      }
    },
    {
      "cell_type": "markdown",
      "source": [
        "This is a situation where the input and output are of the same shape, where 1 x 1 convolution is not needed."
      ],
      "metadata": {
        "id": "UViTCAs-MPTL"
      }
    },
    {
      "cell_type": "code",
      "source": [
        "# Example\n",
        "blk = Residual(3)\n",
        "X = tf.random.normal((4, 6, 6, 3))\n",
        "Y = blk(X)\n",
        "Y.shape"
      ],
      "metadata": {
        "colab": {
          "base_uri": "https://localhost:8080/"
        },
        "id": "ObstQn2NML4q",
        "outputId": "a5da27e0-3f3a-47a5-844c-e03ad315d54f"
      },
      "execution_count": 4,
      "outputs": [
        {
          "output_type": "execute_result",
          "data": {
            "text/plain": [
              "TensorShape([4, 6, 6, 3])"
            ]
          },
          "metadata": {},
          "execution_count": 4
        }
      ]
    },
    {
      "cell_type": "markdown",
      "source": [
        "We also have an option to halve the output height and width while increasing the number of output channels."
      ],
      "metadata": {
        "id": "Wd91WGagM30v"
      }
    },
    {
      "cell_type": "code",
      "source": [
        "blk = Residual(6, use_1x1conv=True, strides=2)\n",
        "blk(X).shape"
      ],
      "metadata": {
        "colab": {
          "base_uri": "https://localhost:8080/"
        },
        "id": "HDNA_nF7MnYo",
        "outputId": "677c15c1-8d3b-4b03-d9ea-b0903ed5c48a"
      },
      "execution_count": 5,
      "outputs": [
        {
          "output_type": "execute_result",
          "data": {
            "text/plain": [
              "TensorShape([4, 3, 3, 6])"
            ]
          },
          "metadata": {},
          "execution_count": 5
        }
      ]
    },
    {
      "cell_type": "code",
      "source": [
        "class ResNet(d2l.Classifier):\n",
        "    def b1(self):\n",
        "        return tf.keras.models.Sequential([\n",
        "            tf.keras.layers.Conv2D(64, kernel_size=7, strides=2,\n",
        "                                   padding='same'),\n",
        "            tf.keras.layers.BatchNormalization(),\n",
        "            tf.keras.layers.Activation('relu'),\n",
        "            tf.keras.layers.MaxPool2D(pool_size=3, strides=2,\n",
        "                                      padding='same')])"
      ],
      "metadata": {
        "id": "lc_HZ13iNIw3"
      },
      "execution_count": 32,
      "outputs": []
    },
    {
      "cell_type": "markdown",
      "source": [
        "The first two layers of ResNet are:\n",
        "- the 7x7 convolutional layer with 64 output channels and a stride of 2.\n",
        "- the 3x3 Max Pool layer with stride of 2"
      ],
      "metadata": {
        "id": "yhe5p6VqNq_i"
      }
    },
    {
      "cell_type": "code",
      "source": [
        "@d2l.add_to_class(ResNet)\n",
        "def block(self, num_residuals, num_channels, first_block=False):\n",
        "    blk = tf.keras.models.Sequential()\n",
        "    for i in range(num_residuals):\n",
        "        if i == 0 and not first_block:\n",
        "            blk.add(Residual(num_channels, use_1x1conv=True, strides=2))\n",
        "        else:\n",
        "            blk.add(Residual(num_channels))\n",
        "    return blk"
      ],
      "metadata": {
        "id": "HijBMYZ-OI5L"
      },
      "execution_count": 33,
      "outputs": []
    },
    {
      "cell_type": "code",
      "source": [
        "@d2l.add_to_class(ResNet)\n",
        "def __init__(self, arch, lr=0.1, num_classes=10):\n",
        "    super(ResNet, self).__init__()\n",
        "    self.save_hyperparameters()\n",
        "    self.net = tf.keras.models.Sequential(self.b1())\n",
        "    for i, b in enumerate(arch):\n",
        "        self.net.add(self.block(*b, first_block=(i==0)))\n",
        "    self.net.add(tf.keras.models.Sequential([\n",
        "        tf.keras.layers.GlobalAvgPool2D(),\n",
        "        tf.keras.layers.Dense(units=num_classes)]))"
      ],
      "metadata": {
        "id": "cpJOgXQgTsw7"
      },
      "execution_count": 34,
      "outputs": []
    },
    {
      "cell_type": "markdown",
      "source": [
        "Together with the first 7x7 convolutional layer and the final fully connected layer, there are 18 layers in total. Therefore, this model is called ResNet-18.\n",
        "By configuring different number of channels and residual blocks in the module, we can create different ResNet models, such as the deeper 152-layer ResNet-152."
      ],
      "metadata": {
        "id": "TcY6CdEtdJtn"
      }
    },
    {
      "cell_type": "markdown",
      "source": [
        "![](https://d2l.ai/_images/resnet18-90.svg)"
      ],
      "metadata": {
        "id": "nTJROuNTcxSC"
      }
    },
    {
      "cell_type": "code",
      "source": [
        "class ResNet18(ResNet):\n",
        "  def __init__(self, lr=0.1, num_classes=10):\n",
        "    super().__init__(((2, 64), (2, 128), (2, 256), (2, 512)),\n",
        "                     lr, num_classes)"
      ],
      "metadata": {
        "id": "2tZvklV9dlht"
      },
      "execution_count": 35,
      "outputs": []
    },
    {
      "cell_type": "code",
      "source": [
        "ResNet18().layer_summary((1, 96, 96, 1))"
      ],
      "metadata": {
        "colab": {
          "base_uri": "https://localhost:8080/"
        },
        "id": "JlI1xngVhi-Y",
        "outputId": "78e90af4-b93a-4709-97fd-35e8e03c2aa5"
      },
      "execution_count": 36,
      "outputs": [
        {
          "output_type": "stream",
          "name": "stdout",
          "text": [
            "Sequential output shape:\t (1, 24, 24, 64)\n",
            "Sequential output shape:\t (1, 24, 24, 64)\n",
            "Sequential output shape:\t (1, 12, 12, 128)\n",
            "Sequential output shape:\t (1, 6, 6, 256)\n",
            "Sequential output shape:\t (1, 3, 3, 512)\n",
            "Sequential output shape:\t (1, 10)\n"
          ]
        }
      ]
    },
    {
      "cell_type": "markdown",
      "source": [
        "## ResNet101 Model"
      ],
      "metadata": {
        "id": "YoVM2cg0To1L"
      }
    },
    {
      "cell_type": "code",
      "source": [
        "input_shape = (32, 32, 3)"
      ],
      "metadata": {
        "id": "DCa6OPKsRgJM"
      },
      "execution_count": 16,
      "outputs": []
    },
    {
      "cell_type": "code",
      "source": [
        "## ResNet101 Model\n",
        "def createResNetModel():\n",
        "  pretrainedModel = tf.keras.applications.ResNet101(include_top=False,\n",
        "                                                 weights=None,\n",
        "                                                 input_shape=input_shape)\n",
        "\n",
        "  for resnetLayer in pretrainedModel.layers:\n",
        "    resnetLayer.trainable = True\n",
        "\n",
        "  # additional layers to the model\n",
        "  resnetModel = tf.keras.models.Sequential()\n",
        "  resnetModel.add(pretrainedModel)\n",
        "  resnetModel.add(tf.keras.layers.Flatten())\n",
        "  resnetModel.add(tf.keras.layers.Dense(2048, activation='relu'))\n",
        "  resnetModel.add(tf.keras.layers.Dropout(.5))\n",
        "  resnetModel.add(tf.keras.layers.Dense(1024, activation='relu'))\n",
        "  resnetModel.add(tf.keras.layers.Dropout(.5))\n",
        "  resnetModel.add(tf.keras.layers.Dense(512, activation='relu'))\n",
        "  resnetModel.add(tf.keras.layers.Dropout(.5))\n",
        "  resnetModel.add(tf.keras.layers.Dense(10, activation='softmax'))\n",
        "  resnetModel.summary()\n",
        "  return resnetModel\n",
        "\n",
        "resnet101_model = createResNetModel()\n"
      ],
      "metadata": {
        "colab": {
          "base_uri": "https://localhost:8080/"
        },
        "id": "fKPeQr-OR2VM",
        "outputId": "4f521156-81bc-426e-e821-c07ee395745a"
      },
      "execution_count": 18,
      "outputs": [
        {
          "output_type": "stream",
          "name": "stdout",
          "text": [
            "Model: \"sequential_1\"\n",
            "_________________________________________________________________\n",
            " Layer (type)                Output Shape              Param #   \n",
            "=================================================================\n",
            " resnet101 (Functional)      (None, 1, 1, 2048)        42658176  \n",
            "                                                                 \n",
            " flatten (Flatten)           (None, 2048)              0         \n",
            "                                                                 \n",
            " dense (Dense)               (None, 2048)              4196352   \n",
            "                                                                 \n",
            " dropout (Dropout)           (None, 2048)              0         \n",
            "                                                                 \n",
            " dense_1 (Dense)             (None, 1024)              2098176   \n",
            "                                                                 \n",
            " dropout_1 (Dropout)         (None, 1024)              0         \n",
            "                                                                 \n",
            " dense_2 (Dense)             (None, 512)               524800    \n",
            "                                                                 \n",
            " dropout_2 (Dropout)         (None, 512)               0         \n",
            "                                                                 \n",
            " dense_3 (Dense)             (None, 10)                5130      \n",
            "                                                                 \n",
            "=================================================================\n",
            "Total params: 49482634 (188.76 MB)\n",
            "Trainable params: 49377290 (188.36 MB)\n",
            "Non-trainable params: 105344 (411.50 KB)\n",
            "_________________________________________________________________\n"
          ]
        }
      ]
    },
    {
      "cell_type": "code",
      "source": [
        "resnet101_model.compile(optimizer='adam', loss='sparse_categorical_crossentropy', metrics=['accuracy'])"
      ],
      "metadata": {
        "id": "CVlrZhVDTjn9"
      },
      "execution_count": 37,
      "outputs": []
    }
  ]
}